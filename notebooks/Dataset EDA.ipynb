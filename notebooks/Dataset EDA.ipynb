{
 "cells": [
  {
   "cell_type": "code",
   "execution_count": 161,
   "id": "53f2157b",
   "metadata": {},
   "outputs": [],
   "source": [
    "import pandas as pd\n",
    "import numpy as np"
   ]
  },
  {
   "cell_type": "code",
   "execution_count": 164,
   "id": "5b600764",
   "metadata": {},
   "outputs": [],
   "source": [
    "data = pd.read_csv('Dataset/book30-listing-test.csv',encoding='latin1',names=[1,2,3,4,5,6,7])"
   ]
  },
  {
   "cell_type": "code",
   "execution_count": 166,
   "id": "23d728fe",
   "metadata": {},
   "outputs": [],
   "source": [
    "data.drop(columns=[1,2,3,6],inplace=True)"
   ]
  },
  {
   "cell_type": "code",
   "execution_count": 168,
   "id": "c6411680",
   "metadata": {},
   "outputs": [
    {
     "data": {
      "text/plain": [
       "4      0\n",
       "5    397\n",
       "7      0\n",
       "dtype: int64"
      ]
     },
     "execution_count": 168,
     "metadata": {},
     "output_type": "execute_result"
    }
   ],
   "source": [
    "data.isnull().sum()"
   ]
  },
  {
   "cell_type": "code",
   "execution_count": 174,
   "id": "636a4473",
   "metadata": {},
   "outputs": [],
   "source": [
    "data.fillna('unknow',inplace=True)"
   ]
  },
  {
   "cell_type": "code",
   "execution_count": 176,
   "id": "51e336be",
   "metadata": {},
   "outputs": [],
   "source": [
    "data.rename(columns={4:'booktitle',5:'author',7:'gener'},inplace=True)"
   ]
  },
  {
   "cell_type": "code",
   "execution_count": 181,
   "id": "83f89cd3",
   "metadata": {},
   "outputs": [],
   "source": [
    "data['booktype1']=data['gener'].str.split('&').str[0]"
   ]
  },
  {
   "cell_type": "code",
   "execution_count": 182,
   "id": "60ba24d7",
   "metadata": {},
   "outputs": [],
   "source": [
    "data['booktype2']=data['gener'].str.split('&').str[1]"
   ]
  },
  {
   "cell_type": "code",
   "execution_count": 187,
   "id": "082269bf",
   "metadata": {},
   "outputs": [],
   "source": [
    "data['booktype2'].fillna(data['booktype1'],inplace=True)"
   ]
  },
  {
   "cell_type": "code",
   "execution_count": 190,
   "id": "18369774",
   "metadata": {},
   "outputs": [],
   "source": [
    "data.drop(columns=['gener'],inplace=True)"
   ]
  },
  {
   "cell_type": "code",
   "execution_count": 191,
   "id": "9b66f98c",
   "metadata": {},
   "outputs": [
    {
     "data": {
      "text/html": [
       "<div>\n",
       "<style scoped>\n",
       "    .dataframe tbody tr th:only-of-type {\n",
       "        vertical-align: middle;\n",
       "    }\n",
       "\n",
       "    .dataframe tbody tr th {\n",
       "        vertical-align: top;\n",
       "    }\n",
       "\n",
       "    .dataframe thead th {\n",
       "        text-align: right;\n",
       "    }\n",
       "</style>\n",
       "<table border=\"1\" class=\"dataframe\">\n",
       "  <thead>\n",
       "    <tr style=\"text-align: right;\">\n",
       "      <th></th>\n",
       "      <th>booktitle</th>\n",
       "      <th>author</th>\n",
       "      <th>booktype1</th>\n",
       "      <th>booktype2</th>\n",
       "    </tr>\n",
       "  </thead>\n",
       "  <tbody>\n",
       "    <tr>\n",
       "      <th>0</th>\n",
       "      <td>Oral and Maxillofacial Surgery: An Objective-B...</td>\n",
       "      <td>unknow</td>\n",
       "      <td>Medical Books</td>\n",
       "      <td>Medical Books</td>\n",
       "    </tr>\n",
       "    <tr>\n",
       "      <th>1</th>\n",
       "      <td>Barron's GRE, 21st Edition</td>\n",
       "      <td>Sharon Weiner Green M.A.</td>\n",
       "      <td>Test Preparation</td>\n",
       "      <td>Test Preparation</td>\n",
       "    </tr>\n",
       "    <tr>\n",
       "      <th>2</th>\n",
       "      <td>George Balanchine: The Ballet Maker (Eminent L...</td>\n",
       "      <td>Robert Gottlieb</td>\n",
       "      <td>Biographies</td>\n",
       "      <td>Memoirs</td>\n",
       "    </tr>\n",
       "    <tr>\n",
       "      <th>3</th>\n",
       "      <td>A Partner in Holiness: Deepening Mindfulness, ...</td>\n",
       "      <td>Rabbi Jonathan P. Slater DMin</td>\n",
       "      <td>Religion</td>\n",
       "      <td>Spirituality</td>\n",
       "    </tr>\n",
       "    <tr>\n",
       "      <th>4</th>\n",
       "      <td>Construction Scheduling: Principles and Practi...</td>\n",
       "      <td>Jay S. Newitt</td>\n",
       "      <td>Arts</td>\n",
       "      <td>Photography</td>\n",
       "    </tr>\n",
       "    <tr>\n",
       "      <th>...</th>\n",
       "      <td>...</td>\n",
       "      <td>...</td>\n",
       "      <td>...</td>\n",
       "      <td>...</td>\n",
       "    </tr>\n",
       "    <tr>\n",
       "      <th>5695</th>\n",
       "      <td>Scandalous Behavior (A Stone Barrington Novel)</td>\n",
       "      <td>Stuart Woods</td>\n",
       "      <td>Mystery, Thriller</td>\n",
       "      <td>Suspense</td>\n",
       "    </tr>\n",
       "    <tr>\n",
       "      <th>5696</th>\n",
       "      <td>Age of Distraction: The Island</td>\n",
       "      <td>Patricia Mahon</td>\n",
       "      <td>Mystery, Thriller</td>\n",
       "      <td>Suspense</td>\n",
       "    </tr>\n",
       "    <tr>\n",
       "      <th>5697</th>\n",
       "      <td>The Ghostly Quilts on Main (Colebridge Communi...</td>\n",
       "      <td>Ann Hazelwood</td>\n",
       "      <td>Mystery, Thriller</td>\n",
       "      <td>Suspense</td>\n",
       "    </tr>\n",
       "    <tr>\n",
       "      <th>5698</th>\n",
       "      <td>Saving Jason (A Jason Stafford Novel)</td>\n",
       "      <td>Michael Sears</td>\n",
       "      <td>Mystery, Thriller</td>\n",
       "      <td>Suspense</td>\n",
       "    </tr>\n",
       "    <tr>\n",
       "      <th>5699</th>\n",
       "      <td>Murder on the Orient Express: A Hercule Poirot...</td>\n",
       "      <td>Agatha Christie</td>\n",
       "      <td>Mystery, Thriller</td>\n",
       "      <td>Suspense</td>\n",
       "    </tr>\n",
       "  </tbody>\n",
       "</table>\n",
       "<p>5700 rows × 4 columns</p>\n",
       "</div>"
      ],
      "text/plain": [
       "                                              booktitle  \\\n",
       "0     Oral and Maxillofacial Surgery: An Objective-B...   \n",
       "1                            Barron's GRE, 21st Edition   \n",
       "2     George Balanchine: The Ballet Maker (Eminent L...   \n",
       "3     A Partner in Holiness: Deepening Mindfulness, ...   \n",
       "4     Construction Scheduling: Principles and Practi...   \n",
       "...                                                 ...   \n",
       "5695     Scandalous Behavior (A Stone Barrington Novel)   \n",
       "5696                     Age of Distraction: The Island   \n",
       "5697  The Ghostly Quilts on Main (Colebridge Communi...   \n",
       "5698              Saving Jason (A Jason Stafford Novel)   \n",
       "5699  Murder on the Orient Express: A Hercule Poirot...   \n",
       "\n",
       "                             author           booktype1         booktype2  \n",
       "0                            unknow       Medical Books     Medical Books  \n",
       "1          Sharon Weiner Green M.A.    Test Preparation  Test Preparation  \n",
       "2                   Robert Gottlieb        Biographies            Memoirs  \n",
       "3     Rabbi Jonathan P. Slater DMin           Religion       Spirituality  \n",
       "4                     Jay S. Newitt               Arts        Photography  \n",
       "...                             ...                 ...               ...  \n",
       "5695                   Stuart Woods  Mystery, Thriller           Suspense  \n",
       "5696                 Patricia Mahon  Mystery, Thriller           Suspense  \n",
       "5697                  Ann Hazelwood  Mystery, Thriller           Suspense  \n",
       "5698                  Michael Sears  Mystery, Thriller           Suspense  \n",
       "5699                Agatha Christie  Mystery, Thriller           Suspense  \n",
       "\n",
       "[5700 rows x 4 columns]"
      ]
     },
     "execution_count": 191,
     "metadata": {},
     "output_type": "execute_result"
    }
   ],
   "source": [
    "data.to_csv('testdata_EDA_Done',index=False,header=)"
   ]
  },
  {
   "cell_type": "code",
   "execution_count": null,
   "id": "9fafa102",
   "metadata": {},
   "outputs": [],
   "source": []
  }
 ],
 "metadata": {
  "kernelspec": {
   "display_name": "Python 3 (ipykernel)",
   "language": "python",
   "name": "python3"
  },
  "language_info": {
   "codemirror_mode": {
    "name": "ipython",
    "version": 3
   },
   "file_extension": ".py",
   "mimetype": "text/x-python",
   "name": "python",
   "nbconvert_exporter": "python",
   "pygments_lexer": "ipython3",
   "version": "3.11.3"
  }
 },
 "nbformat": 4,
 "nbformat_minor": 5
}
